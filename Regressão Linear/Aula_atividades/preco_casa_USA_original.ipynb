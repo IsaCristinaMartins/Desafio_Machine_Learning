{
 "cells": [
  {
   "cell_type": "markdown",
   "id": "e4ab78be-9791-4856-8fed-886a93666ece",
   "metadata": {},
   "source": [
    "# Notebook para treino de atividades propostas pelo bootcamp do Udemy"
   ]
  },
  {
   "cell_type": "code",
   "execution_count": 1,
   "id": "89748b81-5e58-4650-a825-d1b25bb47127",
   "metadata": {},
   "outputs": [],
   "source": [
    "import pandas as pd\n",
    "import numpy as np\n",
    "import matplotlib.pyplot as plt\n",
    "import seaborn as sns\n",
    "%matplotlib inline"
   ]
  },
  {
   "cell_type": "code",
   "execution_count": 2,
   "id": "5a1abbc2-b134-4af8-9958-47381fdfc2a0",
   "metadata": {},
   "outputs": [],
   "source": [
    "USA_preco_original = pd.read_csv('USA_Housing.csv')"
   ]
  },
  {
   "cell_type": "code",
   "execution_count": null,
   "id": "475d1b51-b4a7-47cb-8b31-3df5353fa660",
   "metadata": {},
   "outputs": [],
   "source": [
    "USA_preco_original.head()"
   ]
  },
  {
   "cell_type": "code",
   "execution_count": null,
   "id": "3f16fda8-d85b-447b-bc4d-8c4a1b41139c",
   "metadata": {},
   "outputs": [],
   "source": [
    "USA_preco_original.describe()"
   ]
  },
  {
   "cell_type": "code",
   "execution_count": null,
   "id": "d6720cae-5ada-48cc-a22a-81897db348da",
   "metadata": {},
   "outputs": [],
   "source": [
    "USA_preco_original.info()"
   ]
  },
  {
   "cell_type": "code",
   "execution_count": null,
   "id": "53475c3d-f0a1-4f26-80f6-4a38539531e0",
   "metadata": {},
   "outputs": [],
   "source": [
    "USA_preco_original.columns"
   ]
  },
  {
   "cell_type": "code",
   "execution_count": null,
   "id": "05fa2ce9-fed1-4284-8dc0-996d67c41e41",
   "metadata": {},
   "outputs": [],
   "source": [
    "sns.pairplot(USA_preco_original)\n",
    "plt.show()"
   ]
  },
  {
   "cell_type": "code",
   "execution_count": null,
   "id": "9f2f2436-215f-4142-be64-e8352fc9d9db",
   "metadata": {},
   "outputs": [],
   "source": [
    "sns.heatmap(USA_preco_original.corr())"
   ]
  },
  {
   "cell_type": "markdown",
   "id": "70e71bca-15fc-4d88-8579-2dba4b2a58c7",
   "metadata": {},
   "source": [
    "### Treino de regressão Linear"
   ]
  },
  {
   "cell_type": "code",
   "execution_count": null,
   "id": "8fd14818-7e21-488c-953a-2cc3349c0333",
   "metadata": {},
   "outputs": [],
   "source": [
    "from sklearn.model_selection import train_test_split   #bibliotecas para análise de R.L.\n",
    "from sklearn.linear_model import LinearRegression\n",
    "\n",
    "\n",
    "X = USA_preco_original[['Avg. Area Income', 'Avg. Area House Age', 'Avg. Area Number of Rooms',\n",
    "               'Avg. Area Number of Bedrooms', 'Area Population']]\n",
    "y = USA_preco_original['Price']\n",
    "\n",
    "X_train, X_test, y_train, y_test = train_test_split(X, y, test_size=0.4, random_state=101)\n",
    "\n",
    "lm = LinearRegression()\n",
    "\n",
    "lm.fit(X_train,y_train)\n",
    "print(lm.intercept_)\n",
    "\n",
    "\n",
    "coeff_df = pd.DataFrame(lm.coef_,X.columns,columns=['Coefficient'])\n",
    "coeff_df"
   ]
  },
  {
   "cell_type": "markdown",
   "id": "f1ce1788-8569-4bef-9eb9-ddbd07665a01",
   "metadata": {},
   "source": [
    "### Predição para o modelo"
   ]
  },
  {
   "cell_type": "code",
   "execution_count": null,
   "id": "c702508d-709c-4faf-b570-905eda1e86a3",
   "metadata": {},
   "outputs": [],
   "source": [
    "predicao = lm.predict(X_test)\n",
    "plt.scatter(y_test,predicao)\n",
    "plt.show()\n",
    "\n",
    "'''\n",
    "Um gráfico no sentido esperado de uma regressão linear é um bom indicativo de aprendizagem da relação entre as \n",
    "variáveis, mas isso não garante que foi aprendido da forma ideal\n",
    "'''"
   ]
  },
  {
   "cell_type": "code",
   "execution_count": null,
   "id": "7dd8031a-dbca-4fc7-8afd-51d9afba0c62",
   "metadata": {},
   "outputs": [],
   "source": [
    "sns.displot(y_test - predictions, kde=True)\n",
    "plt.show()\n",
    "\n",
    "'''\n",
    "Caso seja plotado um histograma \"normalmente\" distribuido, seu modelo foi uma escolha certa para os dados, \n",
    "caso ele fique \"estranho\" você pode olhar novamente os dados a serem limpos ou pensar noutro modelo diferente da regressão linear. \n",
    "'''"
   ]
  },
  {
   "cell_type": "markdown",
   "id": "cc73f84c-8557-49ce-8dda-b59084f1a029",
   "metadata": {},
   "source": [
    "- MAE (Erro Médio Absoluto) → Pega o erro de cada chute e faz a média.\n",
    "- MSE (Erro Quadrático Médio) → Faz o mesmo que o MAE, mas eleva os erros ao quadrado antes de calcular a média. Isso faz com que erros grandes fiquem ainda maiores, se você errar feio em uma previsão, esse erro pesa mais no resultado final.\n",
    "- RMSE (Raiz do Erro Quadrático Médio) → É quase o MSE, mas tira a raiz quadrada no final. Isso deixa o número mais fácil de interpretar, porque volta para a mesma unidade da variável\n",
    "\n",
    "    - MAE = 20.000 → O modelo, em média, erra os preços das casas em R$ 20.000.\n",
    "    - MSE = 1.600.000.000 → Parece um número alto, mas isso acontece porque os erros foram elevados ao quadrado.\n",
    "    - RMSE = 40.000 → Isso significa que o erro médio está em torno de R$ 40.000, levando em conta a penalização dos erros grandes.\n",
    "\n",
    "Quando cada um é mais útil?\n",
    "- Se queremos apenas um erro médio fácil de entender, usamos o MAE.\n",
    "- Se queremos dar mais peso a previsões muito ruins, usamos o MSE ou RMSE.\n",
    "- Se os erros grandes precisam ser punidos, mas ainda queremos um número na unidade dos dados, usamos o RMSE."
   ]
  },
  {
   "cell_type": "code",
   "execution_count": 15,
   "id": "aa693abb-8e3e-4f3e-80de-bb919d0f65e5",
   "metadata": {},
   "outputs": [],
   "source": [
    "from sklearn import metrics"
   ]
  },
  {
   "cell_type": "code",
   "execution_count": null,
   "id": "8fd185c4-8618-48e9-bcea-8248062dd9af",
   "metadata": {},
   "outputs": [],
   "source": [
    "metrics.mean_absolute_error(y_test, predictions)"
   ]
  },
  {
   "cell_type": "code",
   "execution_count": null,
   "id": "a9e57fa2-9208-4456-909f-f89af42a0a45",
   "metadata": {},
   "outputs": [],
   "source": [
    "metrics.mean_squared_error(y_test, predictions)"
   ]
  },
  {
   "cell_type": "code",
   "execution_count": null,
   "id": "07be3d3a-33db-4f5b-8777-2b80655f82cb",
   "metadata": {},
   "outputs": [],
   "source": [
    "#RMSE (Raiz do Erro Quadrático Médio) aqui só foi tirado a raiz da segunda métrica. \n",
    "np.sqrt(metrics.mean_squared_error(y_test, predictions))"
   ]
  },
  {
   "cell_type": "code",
   "execution_count": null,
   "id": "2beecc4b-5bf3-4877-89f7-40e6356c0940",
   "metadata": {},
   "outputs": [],
   "source": []
  },
  {
   "cell_type": "code",
   "execution_count": null,
   "id": "8ec16007-867f-46fe-b692-a1a28cec7db3",
   "metadata": {},
   "outputs": [],
   "source": []
  },
  {
   "cell_type": "code",
   "execution_count": null,
   "id": "b3b0a2c3-1a0b-4a95-81b2-db7c82e011a8",
   "metadata": {},
   "outputs": [],
   "source": []
  },
  {
   "cell_type": "code",
   "execution_count": null,
   "id": "3f6d9777-f0bd-46d8-a913-1e95c3f0e5cd",
   "metadata": {},
   "outputs": [],
   "source": []
  },
  {
   "cell_type": "code",
   "execution_count": null,
   "id": "50aef7ad-479a-4631-9a47-7a5f22f8a25a",
   "metadata": {},
   "outputs": [],
   "source": []
  }
 ],
 "metadata": {
  "kernelspec": {
   "display_name": "Python 3 (ipykernel)",
   "language": "python",
   "name": "python3"
  },
  "language_info": {
   "codemirror_mode": {
    "name": "ipython",
    "version": 3
   },
   "file_extension": ".py",
   "mimetype": "text/x-python",
   "name": "python",
   "nbconvert_exporter": "python",
   "pygments_lexer": "ipython3",
   "version": "3.12.7"
  }
 },
 "nbformat": 4,
 "nbformat_minor": 5
}
