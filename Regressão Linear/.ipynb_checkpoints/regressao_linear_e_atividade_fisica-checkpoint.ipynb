{
 "cells": [
  {
   "cell_type": "markdown",
   "id": "31e9c23c-8fdb-40fa-a5f9-9f1fd778e46a",
   "metadata": {},
   "source": [
    "# Notebook para treino de atividades propostas pelo bootcamp do Udemy.\n",
    "\n",
    "### Para treino foi utilizado um dataset obtido do site >> https://www.kaggle.com/datasets/adilshamim8/workout-and-fitness-tracker-data\n",
    "### Este contem dados de exercícios e condicionamento físico, com as seguintes características: \n",
    "\n",
    "\"Este arquivo, \"workout_fitness_tracker_data.csv,\" contém mais de 10.000 registros de dados relacionados à aptidão física coletados de diferentes aplicativos e dispositivos de rastreamento de exercícios. Ele inclui várias métricas, como tipo de treino, duração, calorias queimadas, frequência cardíaca, passos dados e outros parâmetros relacionados à saúde. O conjunto de dados é útil para analisar tendências de aptidão física, prever a eficiência do treino e otimizar rotinas de exercícios usando insights baseados em dados.\"\n",
    "\n"
   ]
  },
  {
   "cell_type": "markdown",
   "id": "346f0a1b-9943-48ed-b556-ebb66177bb27",
   "metadata": {},
   "source": [
    "### Descrições de colunas\n",
    "- ID do usuário (User ID) : um identificador numérico exclusivo atribuído a cada usuário no conjunto de dados.\n",
    "\n",
    "- Idade (Age): A idade do usuário, variando de 18 a 60 anos.\n",
    "\n",
    "- Gênero (Gender): O gênero do usuário (masculino, feminino ou outro).\n",
    "\n",
    "- Altura (cm) (Heinght): A altura do usuário em centímetros.\n",
    "\n",
    "- Peso (kg) (Weight) : O peso do usuário em quilogramas.\n",
    "\n",
    "- Tipo de treino (Workout type): O tipo de treino realizado (por exemplo, cardio, força, ioga, HIIT, ciclismo, corrida).\n",
    "\n",
    "- Duração do treino (minutos) (Workout Duration) : A duração total do treino em minutos.\n",
    "\n",
    "- Calorias queimadas (Calories Burned) : número de calorias queimadas durante a sessão de treino.\n",
    "\n",
    "- Frequência cardíaca (bpm) (Heart Rate) : A frequência cardíaca média (batimentos por minuto) registrada durante o treino.\n",
    "\n",
    "- Passos dados (Steps Taken) : número total de passos dados durante o treino (aplicável para treinos de caminhada/corrida)."
   ]
  },
  {
   "cell_type": "code",
   "execution_count": null,
   "id": "7905eeda-97d4-4a17-aa6d-b9b22bd29b9f",
   "metadata": {},
   "outputs": [],
   "source": []
  },
  {
   "cell_type": "code",
   "execution_count": null,
   "id": "d0a67609-d514-47aa-b35b-893327bc5ea2",
   "metadata": {},
   "outputs": [],
   "source": []
  },
  {
   "cell_type": "code",
   "execution_count": null,
   "id": "f4fc59f0-fd38-47a9-82a6-0e3d25a44c08",
   "metadata": {},
   "outputs": [],
   "source": []
  }
 ],
 "metadata": {
  "kernelspec": {
   "display_name": "Python 3 (ipykernel)",
   "language": "python",
   "name": "python3"
  },
  "language_info": {
   "codemirror_mode": {
    "name": "ipython",
    "version": 3
   },
   "file_extension": ".py",
   "mimetype": "text/x-python",
   "name": "python",
   "nbconvert_exporter": "python",
   "pygments_lexer": "ipython3",
   "version": "3.12.7"
  }
 },
 "nbformat": 4,
 "nbformat_minor": 5
}
